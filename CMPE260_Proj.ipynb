{
  "nbformat": 4,
  "nbformat_minor": 0,
  "metadata": {
    "colab": {
      "name": "CMPE260_Proj.ipynb",
      "provenance": [],
      "authorship_tag": "ABX9TyNz+wieLscZoUKcK8ITpgm4",
      "include_colab_link": true
    },
    "kernelspec": {
      "name": "python3",
      "display_name": "Python 3"
    },
    "language_info": {
      "name": "python"
    }
  },
  "cells": [
    {
      "cell_type": "markdown",
      "metadata": {
        "id": "view-in-github",
        "colab_type": "text"
      },
      "source": [
        "<a href=\"https://colab.research.google.com/github/jimmyland22/CMPE260/blob/main/CMPE260_Proj.ipynb\" target=\"_parent\"><img src=\"https://colab.research.google.com/assets/colab-badge.svg\" alt=\"Open In Colab\"/></a>"
      ]
    },
    {
      "cell_type": "code",
      "metadata": {
        "colab": {
          "base_uri": "https://localhost:8080/"
        },
        "id": "7OEOcsm8NAHQ",
        "outputId": "21d25e41-683a-4a1f-a4d2-fcba62056abc"
      },
      "source": [
        "!curl -L https://anaconda.org/conda-forge/libta-lib/0.4.0/download/linux-64/libta-lib-0.4.0-h516909a_0.tar.bz2 | tar xj -C /usr/lib/x86_64-linux-gnu/ lib --strip-components=1\n",
        "!curl -L https://anaconda.org/conda-forge/ta-lib/0.4.19/download/linux-64/ta-lib-0.4.19-py37ha21ca33_2.tar.bz2 | tar xj -C /usr/local/lib/python3.7/dist-packages/ lib/python3.7/site-packages/talib --strip-components=3"
      ],
      "execution_count": 1,
      "outputs": [
        {
          "output_type": "stream",
          "name": "stdout",
          "text": [
            "  % Total    % Received % Xferd  Average Speed   Time    Time     Time  Current\n",
            "                                 Dload  Upload   Total   Spent    Left  Speed\n",
            "100  3737    0  3737    0     0  38927      0 --:--:-- --:--:-- --:--:-- 38927\n",
            "100  503k  100  503k    0     0  2044k      0 --:--:-- --:--:-- --:--:-- 3645k\n",
            "  % Total    % Received % Xferd  Average Speed   Time    Time     Time  Current\n",
            "                                 Dload  Upload   Total   Spent    Left  Speed\n",
            "100  3745    0  3745    0     0  42556      0 --:--:-- --:--:-- --:--:-- 42556\n",
            "100  406k  100  406k    0     0  1715k      0 --:--:-- --:--:-- --:--:-- 1715k\n"
          ]
        }
      ]
    },
    {
      "cell_type": "code",
      "metadata": {
        "colab": {
          "base_uri": "https://localhost:8080/"
        },
        "id": "-hOGwEmqN8-g",
        "outputId": "8dc1247f-9efa-40c2-9f07-486300b0f0e3"
      },
      "source": [
        "import gym\n",
        "import numpy as np\n",
        "import pandas as pd\n",
        "import sys\n",
        "import talib\n",
        "from gym import spaces\n",
        "from gym.envs.registration import register\n",
        "from gym.utils import seeding\n",
        "from sklearn.preprocessing import scale\n",
        "\n",
        "sys.modules[__name__]"
      ],
      "execution_count": 2,
      "outputs": [
        {
          "output_type": "execute_result",
          "data": {
            "text/plain": [
              "<module '__main__'>"
            ]
          },
          "metadata": {},
          "execution_count": 2
        }
      ]
    },
    {
      "cell_type": "code",
      "metadata": {
        "id": "FKSAr2jjUhpB"
      },
      "source": [
        "class DataSource:\n",
        "    def __init__(self, trading_days=252, ticker=\"AAPL\", normalize=True):\n",
        "        self.trading_days = trading_days\n",
        "        self.ticker = ticker\n",
        "        self.normalize = normalize\n",
        "        self.data = self.load_data()\n",
        "        self.preprocess_data()\n",
        "        self.min_values = self.data.min()\n",
        "        self.max_values = self.data.max()\n",
        "        self.step = 0\n",
        "        self.offset = None\n",
        "\n",
        "    def load_data(self):\n",
        "        print(\"Loading data for {}\".format(self.ticker))\n",
        "        idx = pd.IndexSlice\n",
        "        with pd.HDFStore(\"data/assets.h5\") as store:\n",
        "            df = (store[\"quandl/wiki/prices\"]\n",
        "                  .loc[idx[:, self.ticker], [\"adj_close\", \"adj_volume\", \"adj_low\", \"adj_high\"]]\n",
        "                  .dropna()\n",
        "                  .sort_index())\n",
        "        df.columns = [\"close\", \"volume\", \"low\", \"high\"]\n",
        "        print(\"Loaded data for {}\".format(self.ticker))\n",
        "        return df\n",
        "\n",
        "    def preprocess_data(self):\n",
        "        self.data[\"returns\"] = self.data.close.pct_change()\n",
        "        self.data[\"ret_2\"] = self.data.close.pct_change(2)\n",
        "        self.data[\"ret_5\"] = self.data.close.pct_change(5)\n",
        "        self.data[\"ret_10\"] = self.data.close.pct_change(10)\n",
        "        self.data[\"ret_21\"] = self.data.close.pct_change(21)\n",
        "        self.data[\"rsi\"] = talib.STOCHRSI(self.data.close)[1]\n",
        "        self.data[\"macd\"] = talib.MACD(self.data.close)[1]\n",
        "        self.data[\"atr\"] = talib.ATR(self.data.high, self.data.low, self.data.close)\n",
        "        slowk, slowd = talib.STOCH(self.data.high, self.data.low, self.data.close)\n",
        "        self.data[\"stoch\"] = slowd - slowk\n",
        "        self.data[\"atr\"] = talib.ATR(self.data.high, self.data.low, self.data.close)\n",
        "        self.data[\"ultosc\"] = talib.ULTOSC(self.data.high, self.data.low, self.data.close)\n",
        "        self.data = (self.data\n",
        "                     .replace((np.inf, -np.inf), np.nan)\n",
        "                     .drop([\"high\", \"low\", \"close\", \"volume\"], axis=1)\n",
        "                     .dropna())\n",
        "        r = self.data.returns.copy()\n",
        "        if self.normalize:\n",
        "            self.data = pd.DataFrame(scale(self.data), columns=self.data.columns, index=self.data.index)\n",
        "        features = self.data.columns.drop(\"returns\")\n",
        "        self.data[\"returns\"] = r\n",
        "        self.data = self.data.loc[:, [\"returns\"] + list(features)]\n",
        "        print(self.data.info())\n",
        "\n",
        "    def reset(self):\n",
        "        high = len(self.data.index) - self.trading_days\n",
        "        self.offset = np.random.randint(low=0, high=high)\n",
        "        self.step = 0\n",
        "\n",
        "    def take_step(self):\n",
        "        obs = self.data.iloc[self.offset + self.step].values\n",
        "        self.step += 1\n",
        "        done = self.step > self.trading_days\n",
        "        return obs, done"
      ],
      "execution_count": 3,
      "outputs": []
    },
    {
      "cell_type": "code",
      "metadata": {
        "id": "Aw0ZATReUjFL"
      },
      "source": [
        "class TradingSimulator:\n",
        "    def __init__(self, steps, trading_cost_bps, time_cost_bps):\n",
        "        self.steps = steps\n",
        "        self.trading_cost_bps = trading_cost_bps\n",
        "        self.time_cost_bps = time_cost_bps\n",
        "        self.step = 0\n",
        "        self.actions = np.zeros(self.steps)\n",
        "        self.navs = np.ones(self.steps)\n",
        "        self.market_navs = np.ones(self.steps)\n",
        "        self.strategy_returns = np.ones(self.steps)\n",
        "        self.positions = np.zeros(self.steps)\n",
        "        self.costs = np.zeros(self.steps)\n",
        "        self.trades = np.zeros(self.steps)\n",
        "        self.market_returns = np.zeros(self.steps)\n",
        "\n",
        "    def reset(self):\n",
        "        self.step = 0\n",
        "        self.actions.fill(0)\n",
        "        self.navs.fill(1)\n",
        "        self.market_navs.fill(1)\n",
        "        self.strategy_returns.fill(0)\n",
        "        self.positions.fill(0)\n",
        "        self.costs.fill(0)\n",
        "        self.trades.fill(0)\n",
        "        self.market_returns.fill(0)\n",
        "\n",
        "    def take_step(self, action, market_return):\n",
        "        start_position = self.positions[max(0, self.step - 1)]\n",
        "        start_nav = self.navs[max(0, self.step - 1)]\n",
        "        start_market_nav = self.market_navs[max(0, self.step - 1)]\n",
        "        self.market_returns[self.step] = market_return\n",
        "        self.actions[self.step] = action\n",
        "        end_position = action - 1\n",
        "        n_trades = end_position - start_position\n",
        "        self.positions[self.step] = end_position\n",
        "        self.trades[self.step] = n_trades\n",
        "        trade_costs = abs(n_trades) * self.trading_cost_bps\n",
        "        time_cost = 0 if n_trades else self.time_cost_bps\n",
        "        self.costs[self.step] = trade_costs + time_cost\n",
        "        reward = start_position * market_return - self.costs[self.step]\n",
        "        self.strategy_returns[self.step] = reward\n",
        "        if self.step != 0:\n",
        "            self.navs[self.step] = start_nav * (1 + self.strategy_returns[self.step])\n",
        "            self.market_navs[self.step] = start_market_nav * (1 + self.market_returns[self.step])\n",
        "        info = {\"reward\": reward,\n",
        "                \"nav\": self.navs[self.step],\n",
        "                \"costs\": self.costs[self.step]}\n",
        "        self.step += 1\n",
        "        return reward, info\n",
        "\n",
        "    def result(self):\n",
        "        return pd.DataFrame({\"action\": self.actions,\n",
        "                             \"nav\": self.navs,\n",
        "                             \"market_nav\": self.market_navs,\n",
        "                             \"market_return\": self.market_returns,\n",
        "                             \"strategy_return\": self.strategy_returns,\n",
        "                             \"position\": self.positions,\n",
        "                             \"cost\": self.costs,\n",
        "                             \"trade\": self.trades})"
      ],
      "execution_count": 4,
      "outputs": []
    },
    {
      "cell_type": "code",
      "metadata": {
        "id": "ONPun1BWc7hC"
      },
      "source": [
        "class TradingEnvironment(gym.Env):\n",
        "    metadata = {\"render.modes\": [\"human\"]}\n",
        "\n",
        "    def __init__(self, trading_days=252, trading_cost_bps=1e-3, time_cost_bps=1e-4, ticker=\"AAPL\"):\n",
        "        self.trading_days = trading_days\n",
        "        self.trading_cost_bps = trading_cost_bps\n",
        "        self.time_cost_bps = time_cost_bps\n",
        "        self.ticker = ticker\n",
        "        self.data_source = DataSource(self.trading_days, ticker)\n",
        "        self.simulator = TradingSimulator(self.trading_days, self.trading_cost_bps, self.time_cost_bps)\n",
        "        self.action_space = spaces.Discrete(3)\n",
        "        self.observation_space = spaces.Box(self.data_source.min_values, self.data_source.max_values)\n",
        "        self.reset()\n",
        "        self.np_random = None\n",
        "\n",
        "    def seed(self, seed=None):\n",
        "        self.np_random, seed = seeding.np_random(seed)\n",
        "        return [seed]\n",
        "\n",
        "    def step(self, action):\n",
        "        assert self.action_space.contains(action), \"{} {} invalid\".format(action, type(action))\n",
        "        observation, done = self.data_source.take_step()\n",
        "        reward, info = self.simulator.take_step(action, observation[0])\n",
        "        return observation, reward, done, info\n",
        "\n",
        "    def reset(self):\n",
        "        self.data_source.reset()\n",
        "        self.simulator.reset()\n",
        "        return self.data_source.take_step()[0]\n",
        "\n",
        "    def render(self, mode=\"human\"):\n",
        "        pass"
      ],
      "execution_count": 5,
      "outputs": []
    },
    {
      "cell_type": "code",
      "metadata": {
        "colab": {
          "base_uri": "https://localhost:8080/"
        },
        "id": "KXKrH8gCeXDo",
        "outputId": "e91178e0-4006-432b-86e7-a9307a25d499"
      },
      "source": [
        "!rm -rf *\n",
        "!mkdir data\n",
        "!mkdir temp\n",
        "!git clone https://github.com/jimmyland22/CMPE260.git\n",
        "for i in range(1, 7):\n",
        "    zip = \"/content/CMPE260/data/part_{}.zip\".format(i)\n",
        "    !unzip $zip -d temp\n",
        "!cat temp/*csv > data/wiki_prices.csv\n",
        "!rm -rf CMPE260/\n",
        "!rm -rf temp/"
      ],
      "execution_count": 6,
      "outputs": [
        {
          "output_type": "stream",
          "name": "stdout",
          "text": [
            "Cloning into 'CMPE260'...\n",
            "remote: Enumerating objects: 15, done.\u001b[K\n",
            "remote: Counting objects: 100% (15/15), done.\u001b[K\n",
            "remote: Compressing objects: 100% (14/14), done.\u001b[K\n",
            "remote: Total 15 (delta 1), reused 14 (delta 0), pack-reused 0\u001b[K\n",
            "Unpacking objects: 100% (15/15), done.\n",
            "Checking out files: 100% (10/10), done.\n",
            "Archive:  /content/CMPE260/data/part_1.zip\n",
            "  inflating: temp/xaa.csv            \n",
            "Archive:  /content/CMPE260/data/part_2.zip\n",
            "  inflating: temp/xab.csv            \n",
            "Archive:  /content/CMPE260/data/part_3.zip\n",
            "  inflating: temp/xac.csv            \n",
            "Archive:  /content/CMPE260/data/part_4.zip\n",
            "  inflating: temp/xad.csv            \n",
            "Archive:  /content/CMPE260/data/part_5.zip\n",
            "  inflating: temp/xae.csv            \n",
            "Archive:  /content/CMPE260/data/part_6.zip\n",
            "  inflating: temp/xaf.csv            \n"
          ]
        }
      ]
    },
    {
      "cell_type": "code",
      "metadata": {
        "colab": {
          "base_uri": "https://localhost:8080/",
          "height": 575
        },
        "id": "Fty-4ulBs5jm",
        "outputId": "f10660c2-e02a-4a12-dc91-99d177074e7b"
      },
      "source": [
        "pd.set_option(\"display.expand_frame_repr\", False)\n",
        "\n",
        "df = pd.read_csv(\"data/wiki_prices.csv\",\n",
        "                 parse_dates=[\"date\"],\n",
        "                 index_col=[\"date\", \"ticker\"],\n",
        "                 infer_datetime_format=True).sort_index()\n",
        "\n",
        "with pd.HDFStore(\"data/assets.h5\") as store:\n",
        "    store.put(\"quandl/wiki/prices\", df)\n",
        "\n",
        "print(df.info())\n",
        "df.head()"
      ],
      "execution_count": 7,
      "outputs": [
        {
          "output_type": "stream",
          "name": "stdout",
          "text": [
            "<class 'pandas.core.frame.DataFrame'>\n",
            "MultiIndex: 15389314 entries, (Timestamp('1962-01-02 00:00:00'), 'ARNC') to (Timestamp('2018-03-27 00:00:00'), 'ZUMZ')\n",
            "Data columns (total 12 columns):\n",
            " #   Column       Dtype  \n",
            "---  ------       -----  \n",
            " 0   open         float64\n",
            " 1   high         float64\n",
            " 2   low          float64\n",
            " 3   close        float64\n",
            " 4   volume       float64\n",
            " 5   ex-dividend  float64\n",
            " 6   split_ratio  float64\n",
            " 7   adj_open     float64\n",
            " 8   adj_high     float64\n",
            " 9   adj_low      float64\n",
            " 10  adj_close    float64\n",
            " 11  adj_volume   float64\n",
            "dtypes: float64(12)\n",
            "memory usage: 1.4+ GB\n",
            "None\n"
          ]
        },
        {
          "output_type": "execute_result",
          "data": {
            "text/html": [
              "<div>\n",
              "<style scoped>\n",
              "    .dataframe tbody tr th:only-of-type {\n",
              "        vertical-align: middle;\n",
              "    }\n",
              "\n",
              "    .dataframe tbody tr th {\n",
              "        vertical-align: top;\n",
              "    }\n",
              "\n",
              "    .dataframe thead th {\n",
              "        text-align: right;\n",
              "    }\n",
              "</style>\n",
              "<table border=\"1\" class=\"dataframe\">\n",
              "  <thead>\n",
              "    <tr style=\"text-align: right;\">\n",
              "      <th></th>\n",
              "      <th></th>\n",
              "      <th>open</th>\n",
              "      <th>high</th>\n",
              "      <th>low</th>\n",
              "      <th>close</th>\n",
              "      <th>volume</th>\n",
              "      <th>ex-dividend</th>\n",
              "      <th>split_ratio</th>\n",
              "      <th>adj_open</th>\n",
              "      <th>adj_high</th>\n",
              "      <th>adj_low</th>\n",
              "      <th>adj_close</th>\n",
              "      <th>adj_volume</th>\n",
              "    </tr>\n",
              "    <tr>\n",
              "      <th>date</th>\n",
              "      <th>ticker</th>\n",
              "      <th></th>\n",
              "      <th></th>\n",
              "      <th></th>\n",
              "      <th></th>\n",
              "      <th></th>\n",
              "      <th></th>\n",
              "      <th></th>\n",
              "      <th></th>\n",
              "      <th></th>\n",
              "      <th></th>\n",
              "      <th></th>\n",
              "      <th></th>\n",
              "    </tr>\n",
              "  </thead>\n",
              "  <tbody>\n",
              "    <tr>\n",
              "      <th rowspan=\"5\" valign=\"top\">1962-01-02</th>\n",
              "      <th>ARNC</th>\n",
              "      <td>65.56</td>\n",
              "      <td>65.75</td>\n",
              "      <td>65.38</td>\n",
              "      <td>65.38</td>\n",
              "      <td>5600.0</td>\n",
              "      <td>0.0</td>\n",
              "      <td>1.0</td>\n",
              "      <td>3.458163</td>\n",
              "      <td>3.468185</td>\n",
              "      <td>3.448668</td>\n",
              "      <td>3.448668</td>\n",
              "      <td>44800.000</td>\n",
              "    </tr>\n",
              "    <tr>\n",
              "      <th>BA</th>\n",
              "      <td>50.88</td>\n",
              "      <td>50.88</td>\n",
              "      <td>50.00</td>\n",
              "      <td>50.00</td>\n",
              "      <td>11595.0</td>\n",
              "      <td>0.0</td>\n",
              "      <td>1.0</td>\n",
              "      <td>0.887160</td>\n",
              "      <td>0.887160</td>\n",
              "      <td>0.871816</td>\n",
              "      <td>0.871816</td>\n",
              "      <td>352198.125</td>\n",
              "    </tr>\n",
              "    <tr>\n",
              "      <th>CAT</th>\n",
              "      <td>38.50</td>\n",
              "      <td>38.87</td>\n",
              "      <td>38.12</td>\n",
              "      <td>38.50</td>\n",
              "      <td>13600.0</td>\n",
              "      <td>0.0</td>\n",
              "      <td>1.0</td>\n",
              "      <td>1.578370</td>\n",
              "      <td>1.593539</td>\n",
              "      <td>1.562791</td>\n",
              "      <td>1.578370</td>\n",
              "      <td>163200.000</td>\n",
              "    </tr>\n",
              "    <tr>\n",
              "      <th>DD</th>\n",
              "      <td>241.50</td>\n",
              "      <td>244.25</td>\n",
              "      <td>241.50</td>\n",
              "      <td>241.50</td>\n",
              "      <td>2000.0</td>\n",
              "      <td>0.0</td>\n",
              "      <td>1.0</td>\n",
              "      <td>4.718414</td>\n",
              "      <td>4.772144</td>\n",
              "      <td>4.718414</td>\n",
              "      <td>4.718414</td>\n",
              "      <td>36000.000</td>\n",
              "    </tr>\n",
              "    <tr>\n",
              "      <th>DIS</th>\n",
              "      <td>37.25</td>\n",
              "      <td>38.50</td>\n",
              "      <td>37.25</td>\n",
              "      <td>37.25</td>\n",
              "      <td>2098.0</td>\n",
              "      <td>0.0</td>\n",
              "      <td>1.0</td>\n",
              "      <td>0.141259</td>\n",
              "      <td>0.145999</td>\n",
              "      <td>0.141259</td>\n",
              "      <td>0.141259</td>\n",
              "      <td>408858.240</td>\n",
              "    </tr>\n",
              "  </tbody>\n",
              "</table>\n",
              "</div>"
            ],
            "text/plain": [
              "                     open    high     low   close   volume  ex-dividend  split_ratio  adj_open  adj_high   adj_low  adj_close  adj_volume\n",
              "date       ticker                                                                                                                        \n",
              "1962-01-02 ARNC     65.56   65.75   65.38   65.38   5600.0          0.0          1.0  3.458163  3.468185  3.448668   3.448668   44800.000\n",
              "           BA       50.88   50.88   50.00   50.00  11595.0          0.0          1.0  0.887160  0.887160  0.871816   0.871816  352198.125\n",
              "           CAT      38.50   38.87   38.12   38.50  13600.0          0.0          1.0  1.578370  1.593539  1.562791   1.578370  163200.000\n",
              "           DD      241.50  244.25  241.50  241.50   2000.0          0.0          1.0  4.718414  4.772144  4.718414   4.718414   36000.000\n",
              "           DIS      37.25   38.50   37.25   37.25   2098.0          0.0          1.0  0.141259  0.145999  0.141259   0.141259  408858.240"
            ]
          },
          "metadata": {},
          "execution_count": 7
        }
      ]
    },
    {
      "cell_type": "code",
      "metadata": {
        "id": "Qo5RZNnfyli0"
      },
      "source": [
        "trading_days = 252\n",
        "trading_cost_bps = 0\n",
        "time_cost_bps = 0\n",
        "ticker = \"GOOG\""
      ],
      "execution_count": 8,
      "outputs": []
    },
    {
      "cell_type": "code",
      "metadata": {
        "id": "BOpGz-xggoln"
      },
      "source": [
        "register(id=\"trading-v0\",\n",
        "         entry_point=\"__main__:TradingEnvironment\",\n",
        "         max_episode_steps=trading_days)"
      ],
      "execution_count": 9,
      "outputs": []
    },
    {
      "cell_type": "code",
      "metadata": {
        "colab": {
          "base_uri": "https://localhost:8080/"
        },
        "id": "6cCmU-p8go-l",
        "outputId": "5d665ae6-5e89-47d7-893e-bf32f884a483"
      },
      "source": [
        "trading_environment = gym.make(\"trading-v0\",\n",
        "                               trading_days=trading_days,\n",
        "                               trading_cost_bps=trading_cost_bps,\n",
        "                               time_cost_bps=time_cost_bps,\n",
        "                               ticker=ticker)"
      ],
      "execution_count": 10,
      "outputs": [
        {
          "output_type": "stream",
          "name": "stdout",
          "text": [
            "Loading data for GOOG\n",
            "Loaded data for GOOG\n",
            "<class 'pandas.core.frame.DataFrame'>\n",
            "MultiIndex: 974 entries, (Timestamp('2014-05-14 00:00:00'), 'GOOG') to (Timestamp('2018-03-27 00:00:00'), 'GOOG')\n",
            "Data columns (total 10 columns):\n",
            " #   Column   Non-Null Count  Dtype  \n",
            "---  ------   --------------  -----  \n",
            " 0   returns  974 non-null    float64\n",
            " 1   ret_2    974 non-null    float64\n",
            " 2   ret_5    974 non-null    float64\n",
            " 3   ret_10   974 non-null    float64\n",
            " 4   ret_21   974 non-null    float64\n",
            " 5   rsi      974 non-null    float64\n",
            " 6   macd     974 non-null    float64\n",
            " 7   atr      974 non-null    float64\n",
            " 8   stoch    974 non-null    float64\n",
            " 9   ultosc   974 non-null    float64\n",
            "dtypes: float64(10)\n",
            "memory usage: 1016.5+ KB\n",
            "None\n"
          ]
        },
        {
          "output_type": "stream",
          "name": "stderr",
          "text": [
            "/usr/local/lib/python3.7/dist-packages/gym/logger.py:30: UserWarning: \u001b[33mWARN: Box bound precision lowered by casting to float32\u001b[0m\n",
            "  warnings.warn(colorize('%s: %s'%('WARN', msg % args), 'yellow'))\n"
          ]
        }
      ]
    },
    {
      "cell_type": "code",
      "metadata": {
        "colab": {
          "base_uri": "https://localhost:8080/"
        },
        "id": "HicpaLqxvxBV",
        "outputId": "d0ebed55-9549-4aa0-fc24-212d4e2a7bc5"
      },
      "source": [
        "trading_environment.observation_space"
      ],
      "execution_count": 11,
      "outputs": [
        {
          "output_type": "execute_result",
          "data": {
            "text/plain": [
              "Box(-4.426818370819092, 9.67429256439209, (10,), float32)"
            ]
          },
          "metadata": {},
          "execution_count": 11
        }
      ]
    },
    {
      "cell_type": "code",
      "metadata": {
        "colab": {
          "base_uri": "https://localhost:8080/"
        },
        "id": "T3aptCaGvxq9",
        "outputId": "257ff409-8a1c-4a76-b697-abac422df2db"
      },
      "source": [
        "trading_environment.action_space"
      ],
      "execution_count": 12,
      "outputs": [
        {
          "output_type": "execute_result",
          "data": {
            "text/plain": [
              "Discrete(3)"
            ]
          },
          "metadata": {},
          "execution_count": 12
        }
      ]
    },
    {
      "cell_type": "code",
      "metadata": {
        "colab": {
          "base_uri": "https://localhost:8080/"
        },
        "id": "YjSH7bdSvxv4",
        "outputId": "6742c63b-fdd3-4f8d-9aa4-fccf0218ba2d"
      },
      "source": [
        "trading_environment.spec.max_episode_steps"
      ],
      "execution_count": 13,
      "outputs": [
        {
          "output_type": "execute_result",
          "data": {
            "text/plain": [
              "252"
            ]
          },
          "metadata": {},
          "execution_count": 13
        }
      ]
    },
    {
      "cell_type": "code",
      "metadata": {
        "colab": {
          "base_uri": "https://localhost:8080/"
        },
        "id": "BS8pGILkvx3a",
        "outputId": "74f85cf5-e2ad-4732-fb0f-3c8fce7b3849"
      },
      "source": [
        "trading_environment.reset()\n",
        "trading_environment.step(2)"
      ],
      "execution_count": 14,
      "outputs": [
        {
          "output_type": "execute_result",
          "data": {
            "text/plain": [
              "(array([ 0.01135562,  1.32277149,  1.32954803,  1.33426847,  0.29528349,\n",
              "         1.36839818, -1.22513252, -0.23487574, -1.2071162 ,  0.71946664]),\n",
              " 0.0,\n",
              " False,\n",
              " {'costs': 0.0, 'nav': 1.0, 'reward': 0.0})"
            ]
          },
          "metadata": {},
          "execution_count": 14
        }
      ]
    }
  ]
}