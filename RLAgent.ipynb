{
 "cells": [
  {
   "cell_type": "code",
   "execution_count": 1,
   "id": "a0af015f-5634-42ba-860d-2daa57f304e0",
   "metadata": {},
   "outputs": [],
   "source": [
    "from pathlib import Path\n",
    "from time import time\n",
    "from collections import deque\n",
    "from random import sample\n",
    "\n",
    "import numpy as np\n",
    "import pandas as pd\n",
    "\n",
    "import matplotlib.pyplot as plt\n",
    "from matplotlib.ticker import FuncFormatter\n",
    "import seaborn as sns\n",
    "\n",
    "import tensorflow as tf\n",
    "from tensorflow.keras import Sequential\n",
    "from tensorflow.keras.layers import Dense, Dropout\n",
    "from tensorflow.keras.optimizers import Adam\n",
    "from tensorflow.keras.regularizers import l2\n",
    "\n",
    "import gym\n",
    "from gym.envs.registration import register"
   ]
  },
  {
   "cell_type": "code",
   "execution_count": 2,
   "id": "6924a126-18a0-465d-9a22-36f1c2408910",
   "metadata": {},
   "outputs": [],
   "source": [
    "results_path = Path('results', 'trading_bot')"
   ]
  },
  {
   "cell_type": "markdown",
   "id": "9585d9b1-e4ef-4460-8f07-2a0746071105",
   "metadata": {},
   "source": [
    "## Helper Functions"
   ]
  },
  {
   "cell_type": "code",
   "execution_count": 3,
   "id": "206b5c19-2597-4338-a0a4-c27ff6f5d566",
   "metadata": {},
   "outputs": [],
   "source": [
    "def format_time(t):\n",
    "    m_, s = divmod(t, 60)\n",
    "    h, m = divmod(m_, 60)\n",
    "    return '{:02.0f}:{:02.0f}:{:02.0f}'.format(h, m, s)"
   ]
  },
  {
   "cell_type": "markdown",
   "id": "1affc6f7-333b-4764-b729-8595244e18b6",
   "metadata": {},
   "source": [
    "## Setup Environment"
   ]
  },
  {
   "cell_type": "code",
   "execution_count": 5,
   "id": "eaa869d6-5c4e-47ae-93fb-2c39fb42e6f6",
   "metadata": {},
   "outputs": [],
   "source": [
    "# Set trading days to 1 year\n",
    "trading_days = 252"
   ]
  },
  {
   "cell_type": "code",
   "execution_count": 6,
   "id": "f2bf4e58-39ee-4006-8911-b34aecea4543",
   "metadata": {},
   "outputs": [],
   "source": [
    "register(\n",
    "    id='trading-v0',\n",
    "    entry_point='trading_env:TradingEnvironment',\n",
    "    max_episode_steps=trading_days\n",
    ")"
   ]
  },
  {
   "cell_type": "code",
   "execution_count": 23,
   "id": "dabbf938-e27a-4f3c-9942-6c9743121a48",
   "metadata": {},
   "outputs": [],
   "source": [
    "# Setting trading costs to 0 for now\n",
    "trading_cost_bps = 0\n",
    "time_cost_bps = 0"
   ]
  },
  {
   "cell_type": "code",
   "execution_count": 24,
   "id": "f0d2a4ce-2549-44d6-b9b8-dcbf5381f0e3",
   "metadata": {},
   "outputs": [
    {
     "name": "stderr",
     "output_type": "stream",
     "text": [
      "INFO:trading_env:loading data for AAPL...\n",
      "INFO:trading_env:got data for AAPL...\n",
      "INFO:trading_env:None\n"
     ]
    },
    {
     "name": "stdout",
     "output_type": "stream",
     "text": [
      "<class 'pandas.core.frame.DataFrame'>\n",
      "MultiIndex: 9367 entries, (Timestamp('1981-01-30 00:00:00'), 'AAPL') to (Timestamp('2018-03-27 00:00:00'), 'AAPL')\n",
      "Data columns (total 10 columns):\n",
      " #   Column   Non-Null Count  Dtype  \n",
      "---  ------   --------------  -----  \n",
      " 0   returns  9367 non-null   float64\n",
      " 1   ret_2    9367 non-null   float64\n",
      " 2   ret_5    9367 non-null   float64\n",
      " 3   ret_10   9367 non-null   float64\n",
      " 4   ret_21   9367 non-null   float64\n",
      " 5   rsi      9367 non-null   float64\n",
      " 6   macd     9367 non-null   float64\n",
      " 7   atr      9367 non-null   float64\n",
      " 8   stoch    9367 non-null   float64\n",
      " 9   ultosc   9367 non-null   float64\n",
      "dtypes: float64(10)\n",
      "memory usage: 1.5+ MB\n"
     ]
    },
    {
     "name": "stderr",
     "output_type": "stream",
     "text": [
      "C:\\Users\\jimmy.liang\\Anaconda3\\envs\\finalProject\\lib\\site-packages\\gym\\spaces\\box.py:73: UserWarning: \u001b[33mWARN: Box bound precision lowered by casting to float32\u001b[0m\n",
      "  logger.warn(\n"
     ]
    }
   ],
   "source": [
    "trading_environment = gym.make('trading-v0')\n",
    "trading_environment.env.trading_days = trading_days\n",
    "trading_environment.env.trading_cost_bps = trading_cost_bps\n",
    "trading_environment.env.time_cost_bps = time_cost_bps\n",
    "trading_environment.env.ticker = 'AAPL'"
   ]
  },
  {
   "cell_type": "code",
   "execution_count": 25,
   "id": "091330bd-1ea5-4776-bf89-7f310dcf5957",
   "metadata": {},
   "outputs": [
    {
     "data": {
      "text/plain": [
       "Box(returns    -0.518692\n",
       "ret_2     -13.186786\n",
       "ret_5      -9.157841\n",
       "ret_10     -6.979122\n",
       "ret_21     -5.289787\n",
       "rsi        -1.529044\n",
       "macd       -5.407722\n",
       "atr        -0.615589\n",
       "stoch      -2.762308\n",
       "ultosc     -3.964109\n",
       "dtype: float32, returns     0.332152\n",
       "ret_2      11.431712\n",
       "ret_5      10.235379\n",
       "ret_10      9.135829\n",
       "ret_21      8.238228\n",
       "rsi         1.499695\n",
       "macd        5.705033\n",
       "atr         5.415272\n",
       "stoch       2.712635\n",
       "ultosc      2.763141\n",
       "dtype: float32, (10,), float32)"
      ]
     },
     "execution_count": 25,
     "metadata": {},
     "output_type": "execute_result"
    }
   ],
   "source": [
    "trading_environment.observation_space"
   ]
  },
  {
   "cell_type": "code",
   "execution_count": 18,
   "id": "c1e264d2-9b6f-48bd-ae25-57c4c36e7bac",
   "metadata": {},
   "outputs": [
    {
     "data": {
      "text/plain": [
       "Discrete(3)"
      ]
     },
     "execution_count": 18,
     "metadata": {},
     "output_type": "execute_result"
    }
   ],
   "source": [
    "trading_environment.action_space"
   ]
  },
  {
   "cell_type": "code",
   "execution_count": 16,
   "id": "74b1e23b-5001-489d-a11e-a384b462b8ac",
   "metadata": {},
   "outputs": [
    {
     "data": {
      "text/plain": [
       "252"
      ]
     },
     "execution_count": 16,
     "metadata": {},
     "output_type": "execute_result"
    }
   ],
   "source": [
    "trading_environment.spec.max_episode_steps"
   ]
  },
  {
   "cell_type": "code",
   "execution_count": 32,
   "id": "12f40edd-1299-4ba4-bc4b-ced598d65642",
   "metadata": {},
   "outputs": [
    {
     "data": {
      "text/plain": [
       "(array([-0.01958736, -0.35493985,  2.07697324,  0.12507575,  0.96113906,\n",
       "         1.22884202, -0.09630326, -0.3272639 , -0.11533735,  0.4013755 ]),\n",
       " -0.001,\n",
       " False,\n",
       " {'reward': -0.001, 'nav': 1.0, 'costs': 0.001})"
      ]
     },
     "execution_count": 32,
     "metadata": {},
     "output_type": "execute_result"
    }
   ],
   "source": [
    "trading_environment.reset()\n",
    "trading_environment.step(2)"
   ]
  },
  {
   "cell_type": "code",
   "execution_count": null,
   "id": "01bff641-de6c-4186-8aa3-277b10040860",
   "metadata": {},
   "outputs": [],
   "source": []
  }
 ],
 "metadata": {
  "kernelspec": {
   "display_name": "PyCharm (finalProject)",
   "language": "python",
   "name": "pycharm-493a8d63"
  },
  "language_info": {
   "codemirror_mode": {
    "name": "ipython",
    "version": 3
   },
   "file_extension": ".py",
   "mimetype": "text/x-python",
   "name": "python",
   "nbconvert_exporter": "python",
   "pygments_lexer": "ipython3",
   "version": "3.8.12"
  }
 },
 "nbformat": 4,
 "nbformat_minor": 5
}
